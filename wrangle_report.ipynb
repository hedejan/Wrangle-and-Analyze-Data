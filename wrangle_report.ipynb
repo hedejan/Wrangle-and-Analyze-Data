{
 "cells": [
  {
   "cell_type": "markdown",
   "metadata": {},
   "source": [
    "# Wrangling Report"
   ]
  },
  {
   "cell_type": "markdown",
   "metadata": {},
   "source": [
    "## Imported Libraries"
   ]
  },
  {
   "cell_type": "markdown",
   "metadata": {},
   "source": [
    "The following libraries were imported:\n",
    "1. pandas\n",
    "2. numpy\n",
    "3. matplotlib.pyplot\n",
    "4. seaborn\n",
    "5. tweepy"
   ]
  },
  {
   "cell_type": "markdown",
   "metadata": {},
   "source": [
    "## Gathering"
   ]
  },
  {
   "cell_type": "markdown",
   "metadata": {},
   "source": [
    "I have read from the following files:"
   ]
  },
  {
   "cell_type": "markdown",
   "metadata": {},
   "source": [
    "|File Name|DataFrame|\n",
    "|---|---|\n",
    "|twitter-archive-enhanced.csv|twitter_archive_df|\n",
    "|tweet_json.txt|tweet_json_df|\n",
    "|[image-predictions.tsv](https://d17h27t6h515a5.cloudfront.net/topher/2017/August/599fd2ad_image-predictions/image-predictions.tsv)|image_predictions_df|"
   ]
  },
  {
   "cell_type": "markdown",
   "metadata": {},
   "source": [
    "## Assessing"
   ]
  },
  {
   "cell_type": "markdown",
   "metadata": {},
   "source": [
    "_______________________________________________"
   ]
  },
  {
   "cell_type": "markdown",
   "metadata": {},
   "source": [
    "### General"
   ]
  },
  {
   "cell_type": "markdown",
   "metadata": {},
   "source": [
    "1. `twitter_archive_df` size is 2356, while `tweet_json_df` has 2354 (2 less rows) and `image_predictions_df` has 2075 (281 less rows)\n",
    "2. all three df's are connected in `twitter_archive_df.tweet_id`, `tweet_json_df.id`, and `image_predictions_df.tweet_id`"
   ]
  },
  {
   "cell_type": "markdown",
   "metadata": {},
   "source": [
    "_______________________________________________"
   ]
  },
  {
   "cell_type": "markdown",
   "metadata": {},
   "source": [
    "### twitter_archive_df\n",
    "\n",
    "#### Quality issues\n",
    "\n",
    "##### Visually Assessment:\n",
    "1. `name` column has non-standard lowercase values to be investigated programmatically \n",
    "2. < 1% of `rating_denominator` != 10.\n",
    "3. < 2% of `rating_numerator` is > 14.\n",
    "4. `source` column has the HTML tags, URL, and content all together.\n",
    "\n",
    "##### Programmatic Assessment:\n",
    "5.  `tweet_id` dtype is int (not str)\n",
    "6. `timestamp` is in object format\n",
    "7. `name` column contains 745 \"None\" values\n",
    "8. `name` column contains 25 unique invalid lowercase names (total = 109 values) using regex search with str.contains.\n",
    "9. `in_reply_to_status_id` and `in_reply_to_user_id` have only 78/2356 non-null values with 96.7% missing data\n",
    "10. `retweeted_status_id`, `retweeted_status_user_id`, and `retweeted_status_timestamp` have only 181/2356 non-null values with 92% missing data\n",
    "11. 380 rows only have dogs classified breed into four categories:\n",
    "    * `doggo`\n",
    "    * `floofer`\n",
    "    * `pupper`\n",
    "    * `puppo`\n",
    "    \n",
    "#### Tidiness issues\n",
    "\n",
    "##### Programmatic Assessment:\n",
    "1. The following columns is a subclass of `name` column:\n",
    "    * `doggo`\n",
    "    * `floofer`\n",
    "    * `pupper`\n",
    "    * `puppo`\n",
    "2. The following columns concerning replies (out of scope):\n",
    "    * `in_reply_to_status_id`\n",
    "    * `in_reply_to_user_id`\n",
    "3. The following columns concerning retweets (out of scope):\n",
    "    * `retweeted_status_id`\n",
    "    * `retweeted_status_user_id`\n",
    "    * `retweeted_status_timestamp`"
   ]
  },
  {
   "cell_type": "markdown",
   "metadata": {},
   "source": [
    "_______________________________________________"
   ]
  },
  {
   "cell_type": "markdown",
   "metadata": {},
   "source": [
    "### tweet_json_df\n",
    "\n",
    "#### Quality issues\n",
    "\n",
    "##### Visually Assessment:\n",
    "1. `id` dtype is int (not str)\n",
    "2. Duplicated columns `id` and `id_str`\n",
    "3. Note: `in_reply_to_status_id` and `in_reply_to_status_id_str` columns has the same values, e.g. duplicate \n",
    "4. Note: `in_reply_to_user_id` and `in_reply_to_user_id_str` columns has the same values, e.g. duplicate \n",
    "5. `favorited` column has two values: True and False\n",
    "6. `retweeted` column has one value: False\n",
    "7. `is_quote_status` if True refers to quoting tweets (irrelevant). \n",
    "8. `lang` column has 7 unique values\n",
    "\n",
    "##### Programmatic Assessment:\n",
    "9. `extended_entities` has 281 null values == missing rows in image predictions.\n",
    "10. The following column has only (False) value:\n",
    "    * `retweeted`\n",
    "    * `truncated`\n",
    "11. The following columns is out of interest as they concern quoted tweets:    \n",
    "    * `quoted_status_id`\n",
    "    * `quoted_status_id_str`\n",
    "    * `quoted_status`\n",
    "12. The following columns has almost empty data:\n",
    "    * `geo` (empty)\n",
    "    * `coordinates`\n",
    "    * `place`\n",
    "    * `contributors`\n",
    "13. The following colums has 9 unique values yet with data dtype == object (not categorical)\n",
    "    * `lang`\n",
    "14. `retweeted_status` if notnull() refers to RT tweets (irrelevant)\n",
    "\n",
    "#### Tidiness issues\n",
    "\n",
    "##### Visually Assessment:\n",
    "1. `source` column contains more than one data.\n",
    "\n",
    "##### Programmatic Assessment:\n",
    "2. The following columns concerning replies, retweets, likes, sensitivities, quotes, location, or languages which are out of scope:\n",
    "    * `in_reply_to_status_id`\n",
    "    * `in_reply_to_status_id_str`\n",
    "    * `in_reply_to_user_id`\n",
    "    * `in_reply_to_user_id_str`\n",
    "    * `in_reply_to_screen_name`\n",
    "    * `retweet_count`\n",
    "    * `favorited`\n",
    "    * `possibly_sensitive`\n",
    "    * `ossibly_sensitive_appealable`\n",
    "    * `retweeted_status`\n",
    "3. 179 rows with non-null values of `retweeted_status` where also `favorite_count` == 0 vs. considerable number of retweets!"
   ]
  },
  {
   "cell_type": "markdown",
   "metadata": {},
   "source": [
    "_______________________________________________"
   ]
  },
  {
   "cell_type": "markdown",
   "metadata": {},
   "source": [
    "### image_predictions_df\n",
    "\n",
    "#### Quality issues\n",
    "##### Programmatic Assessment:\n",
    "1. `jpg_url` has duplicated values (links to images) and consequently double entry, e.g. RT @dog_rates: \n",
    "2. `tweet_id` dtype is int (not str)\n",
    "\n",
    "#### Tidiness issues\n",
    "##### Visually Assessment:\n",
    "1. `p1`, `p2`, and `p3` are not using standard format, e.g. some lowercase, other title case, some _ seperated or - or space\n",
    "\n",
    "##### Programmatic Assessment:\n",
    "2. Zero missing data but has 281 less rows"
   ]
  },
  {
   "cell_type": "markdown",
   "metadata": {},
   "source": [
    "## Cleaning"
   ]
  },
  {
   "cell_type": "markdown",
   "metadata": {},
   "source": [
    "All comments have been addressed and rectified using the three steps:\n",
    "* Define\n",
    "* Code\n",
    "* Test\n",
    "over the course of cleaning section of this report."
   ]
  },
  {
   "cell_type": "markdown",
   "metadata": {},
   "source": [
    "After that, we merged the three dataframes into a single DF named `master_twitter_archive_df` which Undergone a second stage of assessing and cleaning before storing, analyzing and vizualizing."
   ]
  },
  {
   "cell_type": "markdown",
   "metadata": {},
   "source": [
    "_______________________________________________"
   ]
  },
  {
   "cell_type": "markdown",
   "metadata": {},
   "source": [
    "# Storing, Analyzing, and Visualizing Data Report"
   ]
  },
  {
   "cell_type": "markdown",
   "metadata": {},
   "source": [
    "## Storing"
   ]
  },
  {
   "cell_type": "markdown",
   "metadata": {},
   "source": [
    "The master DF data was exported into a single csv file named:\n",
    "* twitter_archive_master.csv\n",
    "\n",
    "|File Name|DataFrame|\n",
    "|---|---|\n",
    "|twitter_archive_master.csv|df|"
   ]
  },
  {
   "cell_type": "markdown",
   "metadata": {},
   "source": [
    "## Analyzing"
   ]
  },
  {
   "cell_type": "markdown",
   "metadata": {},
   "source": [
    "* Statistical analysis through describe\n",
    "* count by unique values\n",
    "* mean success rates per image prediction algorithm \n",
    "* grouby and aggregate tweets count, RT/Likes sum and rating mean"
   ]
  },
  {
   "cell_type": "markdown",
   "metadata": {},
   "source": [
    "## Visualizing"
   ]
  },
  {
   "cell_type": "markdown",
   "metadata": {},
   "source": [
    "We have visualized the following characteristics:\n",
    "* value counts of unique dog breed prediction, e.g. p1, p2, and p3\n",
    "* total number of dog breeds with unique value counts of +30\n",
    "* total quantity of above count\n",
    "* correlation between retweets and likes in scatter plot\n",
    "* correlation between retweets and likes in Correlation matrix\n",
    "* trends of tweets counts, RT/likes sum, rating mean over the course of weekdays and months"
   ]
  }
 ],
 "metadata": {
  "kernelspec": {
   "display_name": "Python 3",
   "language": "python",
   "name": "python3"
  },
  "language_info": {
   "codemirror_mode": {
    "name": "ipython",
    "version": 3
   },
   "file_extension": ".py",
   "mimetype": "text/x-python",
   "name": "python",
   "nbconvert_exporter": "python",
   "pygments_lexer": "ipython3",
   "version": "3.7.7"
  },
  "toc-autonumbering": false
 },
 "nbformat": 4,
 "nbformat_minor": 4
}
